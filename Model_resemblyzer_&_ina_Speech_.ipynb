{
  "nbformat": 4,
  "nbformat_minor": 0,
  "metadata": {
    "colab": {
      "name": "Model resemblyzer & ina Speech .ipynb",
      "provenance": [],
      "collapsed_sections": []
    },
    "kernelspec": {
      "name": "python3",
      "display_name": "Python 3"
    },
    "language_info": {
      "name": "python"
    }
  },
  "cells": [
    {
      "cell_type": "markdown",
      "source": [
        "##import "
      ],
      "metadata": {
        "id": "fO9Xx0pFm56H"
      }
    },
    {
      "cell_type": "code",
      "execution_count": 1,
      "metadata": {
        "id": "-n8RxBNYjgDt",
        "colab": {
          "base_uri": "https://localhost:8080/"
        },
        "outputId": "639d04ca-ce95-4e60-d64a-97b60d8fb2ef"
      },
      "outputs": [
        {
          "output_type": "stream",
          "name": "stdout",
          "text": [
            "fatal: destination path 'Resemblyzer' already exists and is not an empty directory.\n"
          ]
        }
      ],
      "source": [
        "!git clone https://github.com/resemble-ai/Resemblyzer.git"
      ]
    },
    {
      "cell_type": "code",
      "source": [
        "!pip install resemblyzer"
      ],
      "metadata": {
        "id": "EJQQ9854j-R6",
        "colab": {
          "base_uri": "https://localhost:8080/"
        },
        "outputId": "5e9391e8-9348-4336-af14-282748ef27b2"
      },
      "execution_count": 2,
      "outputs": [
        {
          "output_type": "stream",
          "name": "stdout",
          "text": [
            "Looking in indexes: https://pypi.org/simple, https://us-python.pkg.dev/colab-wheels/public/simple/\n",
            "Requirement already satisfied: resemblyzer in /usr/local/lib/python3.7/dist-packages (0.1.1.dev0)\n",
            "Requirement already satisfied: numpy>=1.10.1 in /usr/local/lib/python3.7/dist-packages (from resemblyzer) (1.21.6)\n",
            "Requirement already satisfied: scipy>=1.2.1 in /usr/local/lib/python3.7/dist-packages (from resemblyzer) (1.4.1)\n",
            "Requirement already satisfied: librosa>=0.6.1 in /usr/local/lib/python3.7/dist-packages (from resemblyzer) (0.8.1)\n",
            "Requirement already satisfied: typing in /usr/local/lib/python3.7/dist-packages (from resemblyzer) (3.7.4.3)\n",
            "Requirement already satisfied: webrtcvad>=2.0.10 in /usr/local/lib/python3.7/dist-packages (from resemblyzer) (2.0.10)\n",
            "Requirement already satisfied: torch>=1.0.1 in /usr/local/lib/python3.7/dist-packages (from resemblyzer) (1.11.0+cu113)\n",
            "Requirement already satisfied: joblib>=0.14 in /usr/local/lib/python3.7/dist-packages (from librosa>=0.6.1->resemblyzer) (1.1.0)\n",
            "Requirement already satisfied: decorator>=3.0.0 in /usr/local/lib/python3.7/dist-packages (from librosa>=0.6.1->resemblyzer) (4.4.2)\n",
            "Requirement already satisfied: resampy>=0.2.2 in /usr/local/lib/python3.7/dist-packages (from librosa>=0.6.1->resemblyzer) (0.2.2)\n",
            "Requirement already satisfied: numba>=0.43.0 in /usr/local/lib/python3.7/dist-packages (from librosa>=0.6.1->resemblyzer) (0.51.2)\n",
            "Requirement already satisfied: pooch>=1.0 in /usr/local/lib/python3.7/dist-packages (from librosa>=0.6.1->resemblyzer) (1.6.0)\n",
            "Requirement already satisfied: packaging>=20.0 in /usr/local/lib/python3.7/dist-packages (from librosa>=0.6.1->resemblyzer) (21.3)\n",
            "Requirement already satisfied: scikit-learn!=0.19.0,>=0.14.0 in /usr/local/lib/python3.7/dist-packages (from librosa>=0.6.1->resemblyzer) (1.0.2)\n",
            "Requirement already satisfied: soundfile>=0.10.2 in /usr/local/lib/python3.7/dist-packages (from librosa>=0.6.1->resemblyzer) (0.10.3.post1)\n",
            "Requirement already satisfied: audioread>=2.0.0 in /usr/local/lib/python3.7/dist-packages (from librosa>=0.6.1->resemblyzer) (2.1.9)\n",
            "Requirement already satisfied: llvmlite<0.35,>=0.34.0.dev0 in /usr/local/lib/python3.7/dist-packages (from numba>=0.43.0->librosa>=0.6.1->resemblyzer) (0.34.0)\n",
            "Requirement already satisfied: setuptools in /usr/local/lib/python3.7/dist-packages (from numba>=0.43.0->librosa>=0.6.1->resemblyzer) (57.4.0)\n",
            "Requirement already satisfied: pyparsing!=3.0.5,>=2.0.2 in /usr/local/lib/python3.7/dist-packages (from packaging>=20.0->librosa>=0.6.1->resemblyzer) (3.0.9)\n",
            "Requirement already satisfied: appdirs>=1.3.0 in /usr/local/lib/python3.7/dist-packages (from pooch>=1.0->librosa>=0.6.1->resemblyzer) (1.4.4)\n",
            "Requirement already satisfied: requests>=2.19.0 in /usr/local/lib/python3.7/dist-packages (from pooch>=1.0->librosa>=0.6.1->resemblyzer) (2.23.0)\n",
            "Requirement already satisfied: chardet<4,>=3.0.2 in /usr/local/lib/python3.7/dist-packages (from requests>=2.19.0->pooch>=1.0->librosa>=0.6.1->resemblyzer) (3.0.4)\n",
            "Requirement already satisfied: urllib3!=1.25.0,!=1.25.1,<1.26,>=1.21.1 in /usr/local/lib/python3.7/dist-packages (from requests>=2.19.0->pooch>=1.0->librosa>=0.6.1->resemblyzer) (1.24.3)\n",
            "Requirement already satisfied: certifi>=2017.4.17 in /usr/local/lib/python3.7/dist-packages (from requests>=2.19.0->pooch>=1.0->librosa>=0.6.1->resemblyzer) (2022.5.18.1)\n",
            "Requirement already satisfied: idna<3,>=2.5 in /usr/local/lib/python3.7/dist-packages (from requests>=2.19.0->pooch>=1.0->librosa>=0.6.1->resemblyzer) (2.10)\n",
            "Requirement already satisfied: six>=1.3 in /usr/local/lib/python3.7/dist-packages (from resampy>=0.2.2->librosa>=0.6.1->resemblyzer) (1.15.0)\n",
            "Requirement already satisfied: threadpoolctl>=2.0.0 in /usr/local/lib/python3.7/dist-packages (from scikit-learn!=0.19.0,>=0.14.0->librosa>=0.6.1->resemblyzer) (3.1.0)\n",
            "Requirement already satisfied: cffi>=1.0 in /usr/local/lib/python3.7/dist-packages (from soundfile>=0.10.2->librosa>=0.6.1->resemblyzer) (1.15.0)\n",
            "Requirement already satisfied: pycparser in /usr/local/lib/python3.7/dist-packages (from cffi>=1.0->soundfile>=0.10.2->librosa>=0.6.1->resemblyzer) (2.21)\n",
            "Requirement already satisfied: typing-extensions in /usr/local/lib/python3.7/dist-packages (from torch>=1.0.1->resemblyzer) (4.2.0)\n"
          ]
        }
      ]
    },
    {
      "cell_type": "code",
      "source": [
        "!cd Resemblyzer"
      ],
      "metadata": {
        "id": "UiEWWEkIo6zw"
      },
      "execution_count": 3,
      "outputs": []
    },
    {
      "cell_type": "code",
      "source": [
        "# fpath = Path(\"100.091-1428999.wav\")\n",
        "# wav = preprocess_wav(fpath)\n",
        "\n",
        "# encoder = VoiceEncoder()\n",
        "# embed = encoder.embed_utterance(wav)\n",
        "# np.set_printoptions(precision=3, suppress=True)\n",
        "# print(embed)"
      ],
      "metadata": {
        "id": "bCFh_lxvlAIz"
      },
      "execution_count": 4,
      "outputs": []
    },
    {
      "cell_type": "code",
      "source": [
        "!pip install-q pyannote.audio==1.1"
      ],
      "metadata": {
        "id": "XlwWxKZS6XjO",
        "colab": {
          "base_uri": "https://localhost:8080/"
        },
        "outputId": "8309c4d8-cf2a-4003-e0e9-18987c528a30"
      },
      "execution_count": 4,
      "outputs": [
        {
          "output_type": "stream",
          "name": "stdout",
          "text": [
            "ERROR: unknown command \"install-q\" - maybe you meant \"install\"\n"
          ]
        }
      ]
    },
    {
      "cell_type": "code",
      "source": [
        "!pip install spectralcluster"
      ],
      "metadata": {
        "id": "YhLSDEM8LT8j",
        "colab": {
          "base_uri": "https://localhost:8080/"
        },
        "outputId": "0502df36-90ee-4c8c-b35b-b142a9f8e975"
      },
      "execution_count": 5,
      "outputs": [
        {
          "output_type": "stream",
          "name": "stdout",
          "text": [
            "Looking in indexes: https://pypi.org/simple, https://us-python.pkg.dev/colab-wheels/public/simple/\n",
            "Requirement already satisfied: spectralcluster in /usr/local/lib/python3.7/dist-packages (0.2.12)\n"
          ]
        }
      ]
    },
    {
      "cell_type": "code",
      "source": [
        "import numpy as np\n",
        "\n",
        "import pandas as pd\n",
        "import timeit\n",
        "\n",
        "import os\n",
        "from scipy.signal.windows import hann\n",
        "from datetime import datetime\n",
        "import seaborn as sns\n",
        "import matplotlib.pyplot as plt\n",
        "sns.set_theme(style=\"darkgrid\")\n",
        "\n",
        "import torch\n",
        "import torchaudio\n",
        "\n",
        "from resemblyzer import preprocess_wav, VoiceEncoder\n",
        "from pathlib import Path\n",
        "import pickle\n",
        "import scipy.io.wavfile\n",
        "from spectralcluster import SpectralClusterer\n",
        "from scipy.io.wavfile import read\n",
        "from resemblyzer.audio import sampling_rate"
      ],
      "metadata": {
        "id": "AmOpqcGxejIG"
      },
      "execution_count": 6,
      "outputs": []
    },
    {
      "cell_type": "markdown",
      "source": [
        "## Model reresemblyzer"
      ],
      "metadata": {
        "id": "zmnpGzaInX4a"
      }
    },
    {
      "cell_type": "code",
      "source": [
        "def walk_wav(directory:str):\n",
        "    root, dirs, files = list(os.walk(directory))[0]\n",
        "    # return files\n",
        "    return [os.path.join(directory, file) for file in files if file.endswith('.wav') or file.endswith('.WAV') ]"
      ],
      "metadata": {
        "id": "2Kidb0yt7cN0"
      },
      "execution_count": 7,
      "outputs": []
    },
    {
      "cell_type": "code",
      "source": [
        "audio_list = walk_wav(\"/content/drive/MyDrive/iig.iiv /audio menu2\")\n",
        "audio_list = sorted(audio_list)\n",
        "audio_list"
      ],
      "metadata": {
        "id": "ZOzveNNg7ekF"
      },
      "execution_count": null,
      "outputs": []
    },
    {
      "cell_type": "code",
      "source": [
        "audio_list_1 =(\"/content/17.086-1001102.wav\")\n",
        "audio_list_1"
      ],
      "metadata": {
        "colab": {
          "base_uri": "https://localhost:8080/",
          "height": 35
        },
        "id": "w3qQsYf4o3gk",
        "outputId": "7c67160b-f998-412b-ecf0-638f9aa7b867"
      },
      "execution_count": 8,
      "outputs": [
        {
          "output_type": "execute_result",
          "data": {
            "text/plain": [
              "'/content/17.086-1001102.wav'"
            ],
            "application/vnd.google.colaboratory.intrinsic+json": {
              "type": "string"
            }
          },
          "metadata": {},
          "execution_count": 8
        }
      ]
    },
    {
      "cell_type": "code",
      "source": [
        "audio_list_test =walk_wav(\"/content/drive/MyDrive/iig.iiv /audio มี2 ไฟล์\")\n",
        "audio_list_test"
      ],
      "metadata": {
        "colab": {
          "base_uri": "https://localhost:8080/"
        },
        "id": "U8Gj0WGUqpYG",
        "outputId": "1f2f5e55-8ccb-419c-aa69-280168265d03"
      },
      "execution_count": 8,
      "outputs": [
        {
          "output_type": "execute_result",
          "data": {
            "text/plain": [
              "['/content/drive/MyDrive/iig.iiv /audio มี2 ไฟล์/17.086-1001102.wav',\n",
              " '/content/drive/MyDrive/iig.iiv /audio มี2 ไฟล์/23.089-9476208.wav']"
            ]
          },
          "metadata": {},
          "execution_count": 8
        }
      ]
    },
    {
      "cell_type": "code",
      "source": [
        "def create_labelling(labels, wav_splits):\n",
        "    from resemblyzer.audio import sampling_rate\n",
        "    sample_rate = sampling_rate\n",
        "    print('sampling_rate:', sample_rate)\n",
        "    times = [((s.start + s.stop) / 2) / sample_rate for s in wav_splits]\n",
        "    labelling = []\n",
        "    start_time = 0\n",
        "\n",
        "    for i, time in enumerate(times):\n",
        "        if i > 0 and labels[i] != labels[i - 1]:\n",
        "            temp = ['speaker:'+str(labels[i - 1]), start_time, time]\n",
        "            labelling.append(tuple(temp))\n",
        "            start_time = time\n",
        "        if i == len(times) - 1:\n",
        "            temp = ['speaker:'+ str(labels[i]), start_time, time]\n",
        "            labelling.append(tuple(temp))\n",
        "\n",
        "    return labelling"
      ],
      "metadata": {
        "id": "k7gpLwBxIhWA"
      },
      "execution_count": 9,
      "outputs": []
    },
    {
      "cell_type": "code",
      "source": [
        "# ชี้ path audio_list \n",
        "for i in audio_list_test:\n",
        "  wav_fpath = Path(i)\n",
        "  print(i)\n",
        "  wav = preprocess_wav(wav_fpath)\n",
        "  encoder = VoiceEncoder(\"cpu\")\n",
        "  _, cont_embeds, wav_splits = encoder.embed_utterance(wav, return_partials=True, rate = 8)\n",
        "  print(cont_embeds.shape)   \n",
        "  clusterer = SpectralClusterer(\n",
        "      min_clusters=2,\n",
        "      max_clusters=100,autotune=None,\n",
        "      laplacian_type=None,\n",
        "      refinement_options=None,\n",
        "      custom_dist=\"cosine\") #,\n",
        "      # p_percentile=0.90),\n",
        "      #gaussian_blur_sigma=1)\n",
        "\n",
        "  labels = clusterer.predict(cont_embeds)\n",
        "\n",
        "  speakers_labelled = create_labelling(labels, wav_splits)\n",
        "   # print(speakers_labelled)\n",
        "  speakers_labelle =pd.DataFrame(speakers_labelled)\n",
        "   # speakers_report = i[len(path)+1:-4]\n",
        "  ###speakers_labelle.to_csv(f'/content/drive/MyDrive/iig.iiv /1557 กด 2  model resember/{i.split(\"/\")[-1]}.csv')\n",
        "  speakers_labelle\n",
        "\n"
      ],
      "metadata": {
        "id": "pGQIU32r8j4t",
        "colab": {
          "base_uri": "https://localhost:8080/"
        },
        "outputId": "e93067a7-ebbb-47d1-ef38-983d74a7a1c4"
      },
      "execution_count": 10,
      "outputs": [
        {
          "output_type": "stream",
          "name": "stdout",
          "text": [
            "/content/drive/MyDrive/iig.iiv /audio มี2 ไฟล์/17.086-1001102.wav\n",
            "Loaded the voice encoder model on cpu in 0.02 seconds.\n",
            "(1132, 256)\n",
            "sampling_rate: 16000\n",
            "/content/drive/MyDrive/iig.iiv /audio มี2 ไฟล์/23.089-9476208.wav\n",
            "Loaded the voice encoder model on cpu in 0.01 seconds.\n",
            "(864, 256)\n",
            "sampling_rate: 16000\n"
          ]
        }
      ]
    },
    {
      "cell_type": "markdown",
      "source": [
        "## Model  inaSpeechSegmenter"
      ],
      "metadata": {
        "id": "Nd5RDFkLnj_K"
      }
    },
    {
      "cell_type": "code",
      "source": [
        "!pip install inaSpeechSegmenter"
      ],
      "metadata": {
        "id": "xBunrE-Ex24O"
      },
      "execution_count": null,
      "outputs": []
    },
    {
      "cell_type": "code",
      "source": [
        "from inaSpeechSegmenter import Segmenter\n",
        "from inaSpeechSegmenter.export_funcs import seg2csv, seg2textgrid"
      ],
      "metadata": {
        "id": "04glfJY6axx0"
      },
      "execution_count": 20,
      "outputs": []
    },
    {
      "cell_type": "code",
      "source": [
        "audio =(\"/content/17.086-1001102.wav\")\n",
        "# audio = sorted(audio)\n",
        "audio"
      ],
      "metadata": {
        "id": "1nVeHkRTQwr5"
      },
      "execution_count": null,
      "outputs": []
    },
    {
      "cell_type": "code",
      "source": [
        "seg = Segmenter()\n",
        "segmentation = seg(audio)\n",
        "print(audio)\n",
        "segmentation_labelle =pd.DataFrame(segmentation)\n",
        "segmentation_labelle.columns = ['label','start','end']\n",
        "print(segmentation)\n",
        "len(segmentation)"
      ],
      "metadata": {
        "colab": {
          "base_uri": "https://localhost:8080/"
        },
        "id": "-LAbGgFSaFcl",
        "outputId": "13d21368-173e-4221-ec86-02cecd8bff6f"
      },
      "execution_count": 22,
      "outputs": [
        {
          "output_type": "stream",
          "name": "stderr",
          "text": [
            "/usr/local/lib/python3.7/dist-packages/pyannote/algorithms/utils/viterbi.py:88: FutureWarning: arrays to stack must be passed as a \"sequence\" type such as list or tuple. Support for non-sequence iterables such as generators is deprecated as of NumPy 1.16 and will raise an error in the future.\n",
            "  for e, c in six.moves.zip(emission.T, consecutive)\n",
            "/usr/local/lib/python3.7/dist-packages/pyannote/algorithms/utils/viterbi.py:97: FutureWarning: arrays to stack must be passed as a \"sequence\" type such as list or tuple. Support for non-sequence iterables such as generators is deprecated as of NumPy 1.16 and will raise an error in the future.\n",
            "  for e, c in six.moves.zip(constraint.T, consecutive)\n"
          ]
        },
        {
          "output_type": "stream",
          "name": "stdout",
          "text": [
            "/content/17.086-1001102.wav\n",
            "[('female', 0.0, 4.1), ('male', 4.1, 16.66), ('noEnergy', 16.66, 17.26), ('male', 17.26, 18.86), ('noEnergy', 18.86, 19.36), ('male', 19.36, 25.96), ('female', 25.96, 27.78), ('noEnergy', 27.78, 29.02), ('male', 29.02, 34.2), ('noEnergy', 34.2, 34.74), ('male', 34.74, 44.38), ('noEnergy', 44.38, 44.78), ('male', 44.78, 53.28), ('female', 53.28, 56.4), ('noEnergy', 56.4, 56.980000000000004), ('female', 56.980000000000004, 76.62), ('noEnergy', 76.62, 77.52), ('male', 77.52, 79.66), ('noEnergy', 79.66, 80.84), ('male', 80.84, 93.18), ('noEnergy', 93.18, 93.8), ('female', 93.8, 101.60000000000001), ('male', 101.60000000000001, 104.66), ('noEnergy', 104.66, 107.10000000000001), ('female', 107.10000000000001, 109.82000000000001), ('male', 109.82000000000001, 116.64), ('noEnergy', 116.64, 117.32000000000001), ('male', 117.32000000000001, 118.88), ('noEnergy', 118.88, 119.36), ('male', 119.36, 122.36), ('noEnergy', 122.36, 122.96000000000001), ('male', 122.96000000000001, 123.60000000000001), ('noEnergy', 123.60000000000001, 124.42), ('male', 124.42, 126.98), ('female', 126.98, 130.38), ('male', 130.38, 133.08), ('female', 133.08, 135.58), ('noEnergy', 135.58, 136.76), ('male', 136.76, 137.82), ('female', 137.82, 158.34), ('noEnergy', 158.34, 159.26), ('male', 159.26, 166.52), ('female', 166.52, 172.56), ('noEnergy', 172.56, 173.04), ('male', 173.04, 173.74), ('noEnergy', 173.74, 175.46)]\n"
          ]
        },
        {
          "output_type": "execute_result",
          "data": {
            "text/plain": [
              "46"
            ]
          },
          "metadata": {},
          "execution_count": 22
        }
      ]
    },
    {
      "cell_type": "code",
      "source": [
        "segmentation_labelle"
      ],
      "metadata": {
        "id": "iAGmJ_j1bA4m"
      },
      "execution_count": null,
      "outputs": []
    },
    {
      "cell_type": "code",
      "source": [
        "# #ไฟล์ audio_list menu2\n",
        "# #speaker and genger identify\n",
        "# #model inaSpeechSegmenter\n",
        "\n",
        "# #========= \n",
        "# from inaSpeechSegmenter import Segmenter\n",
        "# from inaSpeechSegmenter.export_funcs import seg2csv, seg2textgrid\n",
        "\n",
        "# for i in audio_list :\n",
        "#   seg = Segmenter()\n",
        "#   segmentation = seg(i)\n",
        "#   print(i)\n",
        "#   segmentation_labelle =pd.DataFrame(segmentation)\n",
        "#   segmentation_labelle.columns = ['label','start','end']\n",
        "#   print(segmentation)\n",
        "#   len(segmentation)\n",
        "#   #speakers_report = i[len(path)+1:-4]\n",
        "#   ##segmentation_labelle.to_csv(f'/content/drive/MyDrive/iig.iiv /1557 กด 2  model inaSpeechSegmenter/{i.split(\"/\")[-1]}.csv')\n",
        "#   # seg2textgrid(segmentation, 'myseg.TextGrid')\n"
      ],
      "metadata": {
        "id": "yZ7Zl_QiyFa2"
      },
      "execution_count": null,
      "outputs": []
    },
    {
      "cell_type": "code",
      "source": [
        "# segmentation_labelle"
      ],
      "metadata": {
        "id": "0hENw3LvEtlz"
      },
      "execution_count": null,
      "outputs": []
    },
    {
      "cell_type": "code",
      "source": [
        ""
      ],
      "metadata": {
        "id": "ZRWEAfzEVgkm"
      },
      "execution_count": null,
      "outputs": []
    }
  ]
}
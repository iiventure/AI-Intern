{
  "nbformat": 4,
  "nbformat_minor": 0,
  "metadata": {
    "colab": {
      "name": "conversation_classification.ipynb",
      "provenance": [],
      "collapsed_sections": []
    },
    "kernelspec": {
      "name": "python3",
      "display_name": "Python 3"
    },
    "language_info": {
      "name": "python"
    },
    "widgets": {
      "application/vnd.jupyter.widget-state+json": {
        "53c2e96574ab4038a8bd6abb66294861": {
          "model_module": "@jupyter-widgets/controls",
          "model_name": "HBoxModel",
          "model_module_version": "1.5.0",
          "state": {
            "_dom_classes": [],
            "_model_module": "@jupyter-widgets/controls",
            "_model_module_version": "1.5.0",
            "_model_name": "HBoxModel",
            "_view_count": null,
            "_view_module": "@jupyter-widgets/controls",
            "_view_module_version": "1.5.0",
            "_view_name": "HBoxView",
            "box_style": "",
            "children": [
              "IPY_MODEL_7f99fc5a6e474f55926b51e3876d8d44",
              "IPY_MODEL_21446449d6754c3dac833c0b3441a6bf",
              "IPY_MODEL_6af1ac5191cf4915a4c222cbea971081"
            ],
            "layout": "IPY_MODEL_3baa615a0b154a4293851cafc0e48504"
          }
        },
        "7f99fc5a6e474f55926b51e3876d8d44": {
          "model_module": "@jupyter-widgets/controls",
          "model_name": "HTMLModel",
          "model_module_version": "1.5.0",
          "state": {
            "_dom_classes": [],
            "_model_module": "@jupyter-widgets/controls",
            "_model_module_version": "1.5.0",
            "_model_name": "HTMLModel",
            "_view_count": null,
            "_view_module": "@jupyter-widgets/controls",
            "_view_module_version": "1.5.0",
            "_view_name": "HTMLView",
            "description": "",
            "description_tooltip": null,
            "layout": "IPY_MODEL_b4dfcc6a033d4874a00f9514323fda57",
            "placeholder": "​",
            "style": "IPY_MODEL_d0f8a445e431450d8bb508ee358130e4",
            "value": "100%"
          }
        },
        "21446449d6754c3dac833c0b3441a6bf": {
          "model_module": "@jupyter-widgets/controls",
          "model_name": "FloatProgressModel",
          "model_module_version": "1.5.0",
          "state": {
            "_dom_classes": [],
            "_model_module": "@jupyter-widgets/controls",
            "_model_module_version": "1.5.0",
            "_model_name": "FloatProgressModel",
            "_view_count": null,
            "_view_module": "@jupyter-widgets/controls",
            "_view_module_version": "1.5.0",
            "_view_name": "ProgressView",
            "bar_style": "success",
            "description": "",
            "description_tooltip": null,
            "layout": "IPY_MODEL_8b9fe164ee60485d97b6fd19de11fa63",
            "max": 8,
            "min": 0,
            "orientation": "horizontal",
            "style": "IPY_MODEL_0a67d86a11f443d7a0222b7eada1eaf3",
            "value": 8
          }
        },
        "6af1ac5191cf4915a4c222cbea971081": {
          "model_module": "@jupyter-widgets/controls",
          "model_name": "HTMLModel",
          "model_module_version": "1.5.0",
          "state": {
            "_dom_classes": [],
            "_model_module": "@jupyter-widgets/controls",
            "_model_module_version": "1.5.0",
            "_model_name": "HTMLModel",
            "_view_count": null,
            "_view_module": "@jupyter-widgets/controls",
            "_view_module_version": "1.5.0",
            "_view_name": "HTMLView",
            "description": "",
            "description_tooltip": null,
            "layout": "IPY_MODEL_06aa8deef65743cb98f569a7b627573f",
            "placeholder": "​",
            "style": "IPY_MODEL_ab67522668304529957eafbc37813029",
            "value": " 8/8 [00:04&lt;00:00,  2.28it/s]"
          }
        },
        "3baa615a0b154a4293851cafc0e48504": {
          "model_module": "@jupyter-widgets/base",
          "model_name": "LayoutModel",
          "model_module_version": "1.2.0",
          "state": {
            "_model_module": "@jupyter-widgets/base",
            "_model_module_version": "1.2.0",
            "_model_name": "LayoutModel",
            "_view_count": null,
            "_view_module": "@jupyter-widgets/base",
            "_view_module_version": "1.2.0",
            "_view_name": "LayoutView",
            "align_content": null,
            "align_items": null,
            "align_self": null,
            "border": null,
            "bottom": null,
            "display": null,
            "flex": null,
            "flex_flow": null,
            "grid_area": null,
            "grid_auto_columns": null,
            "grid_auto_flow": null,
            "grid_auto_rows": null,
            "grid_column": null,
            "grid_gap": null,
            "grid_row": null,
            "grid_template_areas": null,
            "grid_template_columns": null,
            "grid_template_rows": null,
            "height": null,
            "justify_content": null,
            "justify_items": null,
            "left": null,
            "margin": null,
            "max_height": null,
            "max_width": null,
            "min_height": null,
            "min_width": null,
            "object_fit": null,
            "object_position": null,
            "order": null,
            "overflow": null,
            "overflow_x": null,
            "overflow_y": null,
            "padding": null,
            "right": null,
            "top": null,
            "visibility": null,
            "width": null
          }
        },
        "b4dfcc6a033d4874a00f9514323fda57": {
          "model_module": "@jupyter-widgets/base",
          "model_name": "LayoutModel",
          "model_module_version": "1.2.0",
          "state": {
            "_model_module": "@jupyter-widgets/base",
            "_model_module_version": "1.2.0",
            "_model_name": "LayoutModel",
            "_view_count": null,
            "_view_module": "@jupyter-widgets/base",
            "_view_module_version": "1.2.0",
            "_view_name": "LayoutView",
            "align_content": null,
            "align_items": null,
            "align_self": null,
            "border": null,
            "bottom": null,
            "display": null,
            "flex": null,
            "flex_flow": null,
            "grid_area": null,
            "grid_auto_columns": null,
            "grid_auto_flow": null,
            "grid_auto_rows": null,
            "grid_column": null,
            "grid_gap": null,
            "grid_row": null,
            "grid_template_areas": null,
            "grid_template_columns": null,
            "grid_template_rows": null,
            "height": null,
            "justify_content": null,
            "justify_items": null,
            "left": null,
            "margin": null,
            "max_height": null,
            "max_width": null,
            "min_height": null,
            "min_width": null,
            "object_fit": null,
            "object_position": null,
            "order": null,
            "overflow": null,
            "overflow_x": null,
            "overflow_y": null,
            "padding": null,
            "right": null,
            "top": null,
            "visibility": null,
            "width": null
          }
        },
        "d0f8a445e431450d8bb508ee358130e4": {
          "model_module": "@jupyter-widgets/controls",
          "model_name": "DescriptionStyleModel",
          "model_module_version": "1.5.0",
          "state": {
            "_model_module": "@jupyter-widgets/controls",
            "_model_module_version": "1.5.0",
            "_model_name": "DescriptionStyleModel",
            "_view_count": null,
            "_view_module": "@jupyter-widgets/base",
            "_view_module_version": "1.2.0",
            "_view_name": "StyleView",
            "description_width": ""
          }
        },
        "8b9fe164ee60485d97b6fd19de11fa63": {
          "model_module": "@jupyter-widgets/base",
          "model_name": "LayoutModel",
          "model_module_version": "1.2.0",
          "state": {
            "_model_module": "@jupyter-widgets/base",
            "_model_module_version": "1.2.0",
            "_model_name": "LayoutModel",
            "_view_count": null,
            "_view_module": "@jupyter-widgets/base",
            "_view_module_version": "1.2.0",
            "_view_name": "LayoutView",
            "align_content": null,
            "align_items": null,
            "align_self": null,
            "border": null,
            "bottom": null,
            "display": null,
            "flex": null,
            "flex_flow": null,
            "grid_area": null,
            "grid_auto_columns": null,
            "grid_auto_flow": null,
            "grid_auto_rows": null,
            "grid_column": null,
            "grid_gap": null,
            "grid_row": null,
            "grid_template_areas": null,
            "grid_template_columns": null,
            "grid_template_rows": null,
            "height": null,
            "justify_content": null,
            "justify_items": null,
            "left": null,
            "margin": null,
            "max_height": null,
            "max_width": null,
            "min_height": null,
            "min_width": null,
            "object_fit": null,
            "object_position": null,
            "order": null,
            "overflow": null,
            "overflow_x": null,
            "overflow_y": null,
            "padding": null,
            "right": null,
            "top": null,
            "visibility": null,
            "width": null
          }
        },
        "0a67d86a11f443d7a0222b7eada1eaf3": {
          "model_module": "@jupyter-widgets/controls",
          "model_name": "ProgressStyleModel",
          "model_module_version": "1.5.0",
          "state": {
            "_model_module": "@jupyter-widgets/controls",
            "_model_module_version": "1.5.0",
            "_model_name": "ProgressStyleModel",
            "_view_count": null,
            "_view_module": "@jupyter-widgets/base",
            "_view_module_version": "1.2.0",
            "_view_name": "StyleView",
            "bar_color": null,
            "description_width": ""
          }
        },
        "06aa8deef65743cb98f569a7b627573f": {
          "model_module": "@jupyter-widgets/base",
          "model_name": "LayoutModel",
          "model_module_version": "1.2.0",
          "state": {
            "_model_module": "@jupyter-widgets/base",
            "_model_module_version": "1.2.0",
            "_model_name": "LayoutModel",
            "_view_count": null,
            "_view_module": "@jupyter-widgets/base",
            "_view_module_version": "1.2.0",
            "_view_name": "LayoutView",
            "align_content": null,
            "align_items": null,
            "align_self": null,
            "border": null,
            "bottom": null,
            "display": null,
            "flex": null,
            "flex_flow": null,
            "grid_area": null,
            "grid_auto_columns": null,
            "grid_auto_flow": null,
            "grid_auto_rows": null,
            "grid_column": null,
            "grid_gap": null,
            "grid_row": null,
            "grid_template_areas": null,
            "grid_template_columns": null,
            "grid_template_rows": null,
            "height": null,
            "justify_content": null,
            "justify_items": null,
            "left": null,
            "margin": null,
            "max_height": null,
            "max_width": null,
            "min_height": null,
            "min_width": null,
            "object_fit": null,
            "object_position": null,
            "order": null,
            "overflow": null,
            "overflow_x": null,
            "overflow_y": null,
            "padding": null,
            "right": null,
            "top": null,
            "visibility": null,
            "width": null
          }
        },
        "ab67522668304529957eafbc37813029": {
          "model_module": "@jupyter-widgets/controls",
          "model_name": "DescriptionStyleModel",
          "model_module_version": "1.5.0",
          "state": {
            "_model_module": "@jupyter-widgets/controls",
            "_model_module_version": "1.5.0",
            "_model_name": "DescriptionStyleModel",
            "_view_count": null,
            "_view_module": "@jupyter-widgets/base",
            "_view_module_version": "1.2.0",
            "_view_name": "StyleView",
            "description_width": ""
          }
        },
        "ca6056a33dce4b34b675f633136ef037": {
          "model_module": "@jupyter-widgets/controls",
          "model_name": "HBoxModel",
          "model_module_version": "1.5.0",
          "state": {
            "_dom_classes": [],
            "_model_module": "@jupyter-widgets/controls",
            "_model_module_version": "1.5.0",
            "_model_name": "HBoxModel",
            "_view_count": null,
            "_view_module": "@jupyter-widgets/controls",
            "_view_module_version": "1.5.0",
            "_view_name": "HBoxView",
            "box_style": "",
            "children": [
              "IPY_MODEL_86c0d815f06f43988cf0b9f460fec8df",
              "IPY_MODEL_9ee041256c7647efa376dcaf04183cf5",
              "IPY_MODEL_1c8013cfbd594e509f5fd4562c4469fd"
            ],
            "layout": "IPY_MODEL_be7e951b0af04fae8356cf68fdef1403"
          }
        },
        "86c0d815f06f43988cf0b9f460fec8df": {
          "model_module": "@jupyter-widgets/controls",
          "model_name": "HTMLModel",
          "model_module_version": "1.5.0",
          "state": {
            "_dom_classes": [],
            "_model_module": "@jupyter-widgets/controls",
            "_model_module_version": "1.5.0",
            "_model_name": "HTMLModel",
            "_view_count": null,
            "_view_module": "@jupyter-widgets/controls",
            "_view_module_version": "1.5.0",
            "_view_name": "HTMLView",
            "description": "",
            "description_tooltip": null,
            "layout": "IPY_MODEL_40de87b0620045d0822efb16c2533c22",
            "placeholder": "​",
            "style": "IPY_MODEL_fe941a70c9b14501839058a66e2f8d78",
            "value": "100%"
          }
        },
        "9ee041256c7647efa376dcaf04183cf5": {
          "model_module": "@jupyter-widgets/controls",
          "model_name": "FloatProgressModel",
          "model_module_version": "1.5.0",
          "state": {
            "_dom_classes": [],
            "_model_module": "@jupyter-widgets/controls",
            "_model_module_version": "1.5.0",
            "_model_name": "FloatProgressModel",
            "_view_count": null,
            "_view_module": "@jupyter-widgets/controls",
            "_view_module_version": "1.5.0",
            "_view_name": "ProgressView",
            "bar_style": "success",
            "description": "",
            "description_tooltip": null,
            "layout": "IPY_MODEL_e13b7794e4a34eae9abbbc34cd49c0b2",
            "max": 28,
            "min": 0,
            "orientation": "horizontal",
            "style": "IPY_MODEL_699813862e2745a0b8f1bff686bb61e5",
            "value": 28
          }
        },
        "1c8013cfbd594e509f5fd4562c4469fd": {
          "model_module": "@jupyter-widgets/controls",
          "model_name": "HTMLModel",
          "model_module_version": "1.5.0",
          "state": {
            "_dom_classes": [],
            "_model_module": "@jupyter-widgets/controls",
            "_model_module_version": "1.5.0",
            "_model_name": "HTMLModel",
            "_view_count": null,
            "_view_module": "@jupyter-widgets/controls",
            "_view_module_version": "1.5.0",
            "_view_name": "HTMLView",
            "description": "",
            "description_tooltip": null,
            "layout": "IPY_MODEL_d859e8b1d99f49b0b66d79221fb421ef",
            "placeholder": "​",
            "style": "IPY_MODEL_f6d976ab92b34206871b9fb690ee03b4",
            "value": " 28/28 [00:11&lt;00:00,  2.42it/s]"
          }
        },
        "be7e951b0af04fae8356cf68fdef1403": {
          "model_module": "@jupyter-widgets/base",
          "model_name": "LayoutModel",
          "model_module_version": "1.2.0",
          "state": {
            "_model_module": "@jupyter-widgets/base",
            "_model_module_version": "1.2.0",
            "_model_name": "LayoutModel",
            "_view_count": null,
            "_view_module": "@jupyter-widgets/base",
            "_view_module_version": "1.2.0",
            "_view_name": "LayoutView",
            "align_content": null,
            "align_items": null,
            "align_self": null,
            "border": null,
            "bottom": null,
            "display": null,
            "flex": null,
            "flex_flow": null,
            "grid_area": null,
            "grid_auto_columns": null,
            "grid_auto_flow": null,
            "grid_auto_rows": null,
            "grid_column": null,
            "grid_gap": null,
            "grid_row": null,
            "grid_template_areas": null,
            "grid_template_columns": null,
            "grid_template_rows": null,
            "height": null,
            "justify_content": null,
            "justify_items": null,
            "left": null,
            "margin": null,
            "max_height": null,
            "max_width": null,
            "min_height": null,
            "min_width": null,
            "object_fit": null,
            "object_position": null,
            "order": null,
            "overflow": null,
            "overflow_x": null,
            "overflow_y": null,
            "padding": null,
            "right": null,
            "top": null,
            "visibility": null,
            "width": null
          }
        },
        "40de87b0620045d0822efb16c2533c22": {
          "model_module": "@jupyter-widgets/base",
          "model_name": "LayoutModel",
          "model_module_version": "1.2.0",
          "state": {
            "_model_module": "@jupyter-widgets/base",
            "_model_module_version": "1.2.0",
            "_model_name": "LayoutModel",
            "_view_count": null,
            "_view_module": "@jupyter-widgets/base",
            "_view_module_version": "1.2.0",
            "_view_name": "LayoutView",
            "align_content": null,
            "align_items": null,
            "align_self": null,
            "border": null,
            "bottom": null,
            "display": null,
            "flex": null,
            "flex_flow": null,
            "grid_area": null,
            "grid_auto_columns": null,
            "grid_auto_flow": null,
            "grid_auto_rows": null,
            "grid_column": null,
            "grid_gap": null,
            "grid_row": null,
            "grid_template_areas": null,
            "grid_template_columns": null,
            "grid_template_rows": null,
            "height": null,
            "justify_content": null,
            "justify_items": null,
            "left": null,
            "margin": null,
            "max_height": null,
            "max_width": null,
            "min_height": null,
            "min_width": null,
            "object_fit": null,
            "object_position": null,
            "order": null,
            "overflow": null,
            "overflow_x": null,
            "overflow_y": null,
            "padding": null,
            "right": null,
            "top": null,
            "visibility": null,
            "width": null
          }
        },
        "fe941a70c9b14501839058a66e2f8d78": {
          "model_module": "@jupyter-widgets/controls",
          "model_name": "DescriptionStyleModel",
          "model_module_version": "1.5.0",
          "state": {
            "_model_module": "@jupyter-widgets/controls",
            "_model_module_version": "1.5.0",
            "_model_name": "DescriptionStyleModel",
            "_view_count": null,
            "_view_module": "@jupyter-widgets/base",
            "_view_module_version": "1.2.0",
            "_view_name": "StyleView",
            "description_width": ""
          }
        },
        "e13b7794e4a34eae9abbbc34cd49c0b2": {
          "model_module": "@jupyter-widgets/base",
          "model_name": "LayoutModel",
          "model_module_version": "1.2.0",
          "state": {
            "_model_module": "@jupyter-widgets/base",
            "_model_module_version": "1.2.0",
            "_model_name": "LayoutModel",
            "_view_count": null,
            "_view_module": "@jupyter-widgets/base",
            "_view_module_version": "1.2.0",
            "_view_name": "LayoutView",
            "align_content": null,
            "align_items": null,
            "align_self": null,
            "border": null,
            "bottom": null,
            "display": null,
            "flex": null,
            "flex_flow": null,
            "grid_area": null,
            "grid_auto_columns": null,
            "grid_auto_flow": null,
            "grid_auto_rows": null,
            "grid_column": null,
            "grid_gap": null,
            "grid_row": null,
            "grid_template_areas": null,
            "grid_template_columns": null,
            "grid_template_rows": null,
            "height": null,
            "justify_content": null,
            "justify_items": null,
            "left": null,
            "margin": null,
            "max_height": null,
            "max_width": null,
            "min_height": null,
            "min_width": null,
            "object_fit": null,
            "object_position": null,
            "order": null,
            "overflow": null,
            "overflow_x": null,
            "overflow_y": null,
            "padding": null,
            "right": null,
            "top": null,
            "visibility": null,
            "width": null
          }
        },
        "699813862e2745a0b8f1bff686bb61e5": {
          "model_module": "@jupyter-widgets/controls",
          "model_name": "ProgressStyleModel",
          "model_module_version": "1.5.0",
          "state": {
            "_model_module": "@jupyter-widgets/controls",
            "_model_module_version": "1.5.0",
            "_model_name": "ProgressStyleModel",
            "_view_count": null,
            "_view_module": "@jupyter-widgets/base",
            "_view_module_version": "1.2.0",
            "_view_name": "StyleView",
            "bar_color": null,
            "description_width": ""
          }
        },
        "d859e8b1d99f49b0b66d79221fb421ef": {
          "model_module": "@jupyter-widgets/base",
          "model_name": "LayoutModel",
          "model_module_version": "1.2.0",
          "state": {
            "_model_module": "@jupyter-widgets/base",
            "_model_module_version": "1.2.0",
            "_model_name": "LayoutModel",
            "_view_count": null,
            "_view_module": "@jupyter-widgets/base",
            "_view_module_version": "1.2.0",
            "_view_name": "LayoutView",
            "align_content": null,
            "align_items": null,
            "align_self": null,
            "border": null,
            "bottom": null,
            "display": null,
            "flex": null,
            "flex_flow": null,
            "grid_area": null,
            "grid_auto_columns": null,
            "grid_auto_flow": null,
            "grid_auto_rows": null,
            "grid_column": null,
            "grid_gap": null,
            "grid_row": null,
            "grid_template_areas": null,
            "grid_template_columns": null,
            "grid_template_rows": null,
            "height": null,
            "justify_content": null,
            "justify_items": null,
            "left": null,
            "margin": null,
            "max_height": null,
            "max_width": null,
            "min_height": null,
            "min_width": null,
            "object_fit": null,
            "object_position": null,
            "order": null,
            "overflow": null,
            "overflow_x": null,
            "overflow_y": null,
            "padding": null,
            "right": null,
            "top": null,
            "visibility": null,
            "width": null
          }
        },
        "f6d976ab92b34206871b9fb690ee03b4": {
          "model_module": "@jupyter-widgets/controls",
          "model_name": "DescriptionStyleModel",
          "model_module_version": "1.5.0",
          "state": {
            "_model_module": "@jupyter-widgets/controls",
            "_model_module_version": "1.5.0",
            "_model_name": "DescriptionStyleModel",
            "_view_count": null,
            "_view_module": "@jupyter-widgets/base",
            "_view_module_version": "1.2.0",
            "_view_name": "StyleView",
            "description_width": ""
          }
        }
      }
    },
    "accelerator": "GPU",
    "gpuClass": "standard"
  },
  "cells": [
    {
      "cell_type": "code",
      "source": [
        "! pip install pythainlp\n",
        "! pip install -U tensorflow-text==2.6.0"
      ],
      "metadata": {
        "id": "ETHbJGMAiMCs"
      },
      "execution_count": null,
      "outputs": []
    },
    {
      "cell_type": "code",
      "execution_count": null,
      "metadata": {
        "id": "JST9IKGIjXFE"
      },
      "outputs": [],
      "source": [
        "import pandas as pd\n",
        "import numpy as np\n",
        "import re\n",
        "import string\n",
        "from tqdm import tqdm_notebook\n",
        "\n",
        "from sklearn.model_selection import train_test_split\n",
        "from sklearn.metrics import accuracy_score\n",
        "from sklearn.metrics import confusion_matrix\n",
        "from sklearn.metrics import classification_report\n",
        "from sklearn import preprocessing\n",
        "from tensorflow.keras.utils import to_categorical\n",
        "import tensorflow as tf\n",
        "\n",
        "import pythainlp.util\n",
        "from pythainlp.tokenize import word_tokenize\n",
        "from pythainlp.util import normalize\n",
        "from pythainlp.tag import pos_tag\n",
        "from pythainlp.corpus.common import thai_stopwords\n",
        "from pythainlp import thai_punctuations"
      ]
    },
    {
      "cell_type": "code",
      "source": [
        "engine= 'newmm'"
      ],
      "metadata": {
        "id": "S4pX4ifmpU_v"
      },
      "execution_count": null,
      "outputs": []
    },
    {
      "cell_type": "code",
      "source": [
        "#function\n",
        "def process_text(text):\n",
        "  token = word_tokenize(text, engine=engine, keep_whitespace=False)\n",
        "  normalized_token = []\n",
        "  for item in token:\n",
        "    normalized_token.append(normalize(item))\n",
        "  stopwords = thai_stopwords()\n",
        "  woStopword_token = []\n",
        "  for item in normalized_token:\n",
        "    if item not in stopwords:\n",
        "      woStopword_token.append(item)\n",
        "  en_punctuation = string.punctuation\n",
        "  th_punctuation = thai_punctuations\n",
        "  punctuation = en_punctuation+th_punctuation\n",
        "  final_token = []\n",
        "  for item in woStopword_token:\n",
        "\t  if item not in punctuation:\n",
        "\t\t  final_token.append(item) \n",
        "  return final_token"
      ],
      "metadata": {
        "id": "sXQTvJ4yiKXQ"
      },
      "execution_count": null,
      "outputs": []
    },
    {
      "cell_type": "markdown",
      "source": [
        "# preprocess"
      ],
      "metadata": {
        "id": "CvZ848jpo0yb"
      }
    },
    {
      "cell_type": "code",
      "source": [
        "df = pd.read_csv('/content/dataset(4class_agent).csv')\n",
        "df = df.rename(columns={\"text\":\"texts\",\"class\":\"category\"})\n",
        "all_df = df.dropna()\n",
        "all_df"
      ],
      "metadata": {
        "id": "fLIgaOLekLkN",
        "colab": {
          "base_uri": "https://localhost:8080/",
          "height": 424
        },
        "outputId": "1d1d35b4-37a3-4e71-ebf2-7efe0176584d"
      },
      "execution_count": null,
      "outputs": [
        {
          "output_type": "execute_result",
          "data": {
            "text/plain": [
              "                                  filename  \\\n",
              "0          _10_10_7073379372317606809_1_74   \n",
              "1          _10_10_7073450200623291783_1_74   \n",
              "2          _10_10_7079087469753341967_1_74   \n",
              "3          _10_10_7079297824366592124_1_74   \n",
              "4          _10_10_7080719527261054596_1_74   \n",
              "..                                     ...   \n",
              "344    _1_Telesale_1904_02.03.2565_8.36.43   \n",
              "345    _1_Telesale_1904_02.03.2565_8.58.55   \n",
              "346    _1_Telesale_1904_02.03.2565_9.42.59   \n",
              "347   _1_Telesale_1904_02.03.2565__8.49.46   \n",
              "348  _1_Telesale_1904__01.03.2565_12.48.20   \n",
              "\n",
              "                                                 texts   category  \n",
              "0    สวัสดีค่ะวรัสรินยินดีให้บริการค่ะรถทะเบียนอะไร...  1557menu1  \n",
              "1    สวัสดีค่ะวิริยะประกันภัยสุมิตตายินดีให้บริการค...  1557menu1  \n",
              "2    สวัสดีค่ะวิริยะประกันภัยณัฐสรณ์ยินดีให้บริการค...  1557menu1  \n",
              "3    สวัสดีค่ะบริษัทวิริยะประกันภัยประภานิชายินดีบร...  1557menu1  \n",
              "4    สวัสดีค่ะวิริยะประกันภัย ธนวรรณดียินดีให้บริกา...  1557menu1  \n",
              "..                                                 ...        ...  \n",
              "344  วิริยะประกันภัยสวัสดีค่ะ ติดต่อเรื่องอะไรคะสวั...        A&H  \n",
              "345  สวัสดีค่ะ ขอเรียนสายคุณณัชญาภา ดิฉันโทรจากบริษ...        A&H  \n",
              "346  สวัสดีค่ะขอเรียนสายคุณศักดาค่ะค่ะรุ้งเพชรโทรจา...        A&H  \n",
              "347  วิริยะประกันภัยสวัสดีค่ะติดต่อเรื่องอะไรคะค่ะเ...        A&H  \n",
              "348  วิริยะประกันภัยสวัสดีค่ะติดต่อเรื่องอะไรคะค่ะเ...        A&H  \n",
              "\n",
              "[349 rows x 3 columns]"
            ],
            "text/html": [
              "\n",
              "  <div id=\"df-2cdee11a-91f2-45d2-a670-f1aa37585a55\">\n",
              "    <div class=\"colab-df-container\">\n",
              "      <div>\n",
              "<style scoped>\n",
              "    .dataframe tbody tr th:only-of-type {\n",
              "        vertical-align: middle;\n",
              "    }\n",
              "\n",
              "    .dataframe tbody tr th {\n",
              "        vertical-align: top;\n",
              "    }\n",
              "\n",
              "    .dataframe thead th {\n",
              "        text-align: right;\n",
              "    }\n",
              "</style>\n",
              "<table border=\"1\" class=\"dataframe\">\n",
              "  <thead>\n",
              "    <tr style=\"text-align: right;\">\n",
              "      <th></th>\n",
              "      <th>filename</th>\n",
              "      <th>texts</th>\n",
              "      <th>category</th>\n",
              "    </tr>\n",
              "  </thead>\n",
              "  <tbody>\n",
              "    <tr>\n",
              "      <th>0</th>\n",
              "      <td>_10_10_7073379372317606809_1_74</td>\n",
              "      <td>สวัสดีค่ะวรัสรินยินดีให้บริการค่ะรถทะเบียนอะไร...</td>\n",
              "      <td>1557menu1</td>\n",
              "    </tr>\n",
              "    <tr>\n",
              "      <th>1</th>\n",
              "      <td>_10_10_7073450200623291783_1_74</td>\n",
              "      <td>สวัสดีค่ะวิริยะประกันภัยสุมิตตายินดีให้บริการค...</td>\n",
              "      <td>1557menu1</td>\n",
              "    </tr>\n",
              "    <tr>\n",
              "      <th>2</th>\n",
              "      <td>_10_10_7079087469753341967_1_74</td>\n",
              "      <td>สวัสดีค่ะวิริยะประกันภัยณัฐสรณ์ยินดีให้บริการค...</td>\n",
              "      <td>1557menu1</td>\n",
              "    </tr>\n",
              "    <tr>\n",
              "      <th>3</th>\n",
              "      <td>_10_10_7079297824366592124_1_74</td>\n",
              "      <td>สวัสดีค่ะบริษัทวิริยะประกันภัยประภานิชายินดีบร...</td>\n",
              "      <td>1557menu1</td>\n",
              "    </tr>\n",
              "    <tr>\n",
              "      <th>4</th>\n",
              "      <td>_10_10_7080719527261054596_1_74</td>\n",
              "      <td>สวัสดีค่ะวิริยะประกันภัย ธนวรรณดียินดีให้บริกา...</td>\n",
              "      <td>1557menu1</td>\n",
              "    </tr>\n",
              "    <tr>\n",
              "      <th>...</th>\n",
              "      <td>...</td>\n",
              "      <td>...</td>\n",
              "      <td>...</td>\n",
              "    </tr>\n",
              "    <tr>\n",
              "      <th>344</th>\n",
              "      <td>_1_Telesale_1904_02.03.2565_8.36.43</td>\n",
              "      <td>วิริยะประกันภัยสวัสดีค่ะ ติดต่อเรื่องอะไรคะสวั...</td>\n",
              "      <td>A&amp;H</td>\n",
              "    </tr>\n",
              "    <tr>\n",
              "      <th>345</th>\n",
              "      <td>_1_Telesale_1904_02.03.2565_8.58.55</td>\n",
              "      <td>สวัสดีค่ะ ขอเรียนสายคุณณัชญาภา ดิฉันโทรจากบริษ...</td>\n",
              "      <td>A&amp;H</td>\n",
              "    </tr>\n",
              "    <tr>\n",
              "      <th>346</th>\n",
              "      <td>_1_Telesale_1904_02.03.2565_9.42.59</td>\n",
              "      <td>สวัสดีค่ะขอเรียนสายคุณศักดาค่ะค่ะรุ้งเพชรโทรจา...</td>\n",
              "      <td>A&amp;H</td>\n",
              "    </tr>\n",
              "    <tr>\n",
              "      <th>347</th>\n",
              "      <td>_1_Telesale_1904_02.03.2565__8.49.46</td>\n",
              "      <td>วิริยะประกันภัยสวัสดีค่ะติดต่อเรื่องอะไรคะค่ะเ...</td>\n",
              "      <td>A&amp;H</td>\n",
              "    </tr>\n",
              "    <tr>\n",
              "      <th>348</th>\n",
              "      <td>_1_Telesale_1904__01.03.2565_12.48.20</td>\n",
              "      <td>วิริยะประกันภัยสวัสดีค่ะติดต่อเรื่องอะไรคะค่ะเ...</td>\n",
              "      <td>A&amp;H</td>\n",
              "    </tr>\n",
              "  </tbody>\n",
              "</table>\n",
              "<p>349 rows × 3 columns</p>\n",
              "</div>\n",
              "      <button class=\"colab-df-convert\" onclick=\"convertToInteractive('df-2cdee11a-91f2-45d2-a670-f1aa37585a55')\"\n",
              "              title=\"Convert this dataframe to an interactive table.\"\n",
              "              style=\"display:none;\">\n",
              "        \n",
              "  <svg xmlns=\"http://www.w3.org/2000/svg\" height=\"24px\"viewBox=\"0 0 24 24\"\n",
              "       width=\"24px\">\n",
              "    <path d=\"M0 0h24v24H0V0z\" fill=\"none\"/>\n",
              "    <path d=\"M18.56 5.44l.94 2.06.94-2.06 2.06-.94-2.06-.94-.94-2.06-.94 2.06-2.06.94zm-11 1L8.5 8.5l.94-2.06 2.06-.94-2.06-.94L8.5 2.5l-.94 2.06-2.06.94zm10 10l.94 2.06.94-2.06 2.06-.94-2.06-.94-.94-2.06-.94 2.06-2.06.94z\"/><path d=\"M17.41 7.96l-1.37-1.37c-.4-.4-.92-.59-1.43-.59-.52 0-1.04.2-1.43.59L10.3 9.45l-7.72 7.72c-.78.78-.78 2.05 0 2.83L4 21.41c.39.39.9.59 1.41.59.51 0 1.02-.2 1.41-.59l7.78-7.78 2.81-2.81c.8-.78.8-2.07 0-2.86zM5.41 20L4 18.59l7.72-7.72 1.47 1.35L5.41 20z\"/>\n",
              "  </svg>\n",
              "      </button>\n",
              "      \n",
              "  <style>\n",
              "    .colab-df-container {\n",
              "      display:flex;\n",
              "      flex-wrap:wrap;\n",
              "      gap: 12px;\n",
              "    }\n",
              "\n",
              "    .colab-df-convert {\n",
              "      background-color: #E8F0FE;\n",
              "      border: none;\n",
              "      border-radius: 50%;\n",
              "      cursor: pointer;\n",
              "      display: none;\n",
              "      fill: #1967D2;\n",
              "      height: 32px;\n",
              "      padding: 0 0 0 0;\n",
              "      width: 32px;\n",
              "    }\n",
              "\n",
              "    .colab-df-convert:hover {\n",
              "      background-color: #E2EBFA;\n",
              "      box-shadow: 0px 1px 2px rgba(60, 64, 67, 0.3), 0px 1px 3px 1px rgba(60, 64, 67, 0.15);\n",
              "      fill: #174EA6;\n",
              "    }\n",
              "\n",
              "    [theme=dark] .colab-df-convert {\n",
              "      background-color: #3B4455;\n",
              "      fill: #D2E3FC;\n",
              "    }\n",
              "\n",
              "    [theme=dark] .colab-df-convert:hover {\n",
              "      background-color: #434B5C;\n",
              "      box-shadow: 0px 1px 3px 1px rgba(0, 0, 0, 0.15);\n",
              "      filter: drop-shadow(0px 1px 2px rgba(0, 0, 0, 0.3));\n",
              "      fill: #FFFFFF;\n",
              "    }\n",
              "  </style>\n",
              "\n",
              "      <script>\n",
              "        const buttonEl =\n",
              "          document.querySelector('#df-2cdee11a-91f2-45d2-a670-f1aa37585a55 button.colab-df-convert');\n",
              "        buttonEl.style.display =\n",
              "          google.colab.kernel.accessAllowed ? 'block' : 'none';\n",
              "\n",
              "        async function convertToInteractive(key) {\n",
              "          const element = document.querySelector('#df-2cdee11a-91f2-45d2-a670-f1aa37585a55');\n",
              "          const dataTable =\n",
              "            await google.colab.kernel.invokeFunction('convertToInteractive',\n",
              "                                                     [key], {});\n",
              "          if (!dataTable) return;\n",
              "\n",
              "          const docLinkHtml = 'Like what you see? Visit the ' +\n",
              "            '<a target=\"_blank\" href=https://colab.research.google.com/notebooks/data_table.ipynb>data table notebook</a>'\n",
              "            + ' to learn more about interactive tables.';\n",
              "          element.innerHTML = '';\n",
              "          dataTable['output_type'] = 'display_data';\n",
              "          await google.colab.output.renderOutput(dataTable, element);\n",
              "          const docLink = document.createElement('div');\n",
              "          docLink.innerHTML = docLinkHtml;\n",
              "          element.appendChild(docLink);\n",
              "        }\n",
              "      </script>\n",
              "    </div>\n",
              "  </div>\n",
              "  "
            ]
          },
          "metadata": {},
          "execution_count": 8
        }
      ]
    },
    {
      "cell_type": "code",
      "source": [
        "#สัดส่วน label\n",
        "all_df.category.value_counts() / all_df.shape[0]"
      ],
      "metadata": {
        "id": "-iNDVTtYoJ3B",
        "colab": {
          "base_uri": "https://localhost:8080/"
        },
        "outputId": "a8bce2b0-6fe8-4ace-e1bd-62e1a994f2b0"
      },
      "execution_count": null,
      "outputs": [
        {
          "output_type": "execute_result",
          "data": {
            "text/plain": [
              "1557menu3    0.275072\n",
              "1557menu2    0.260745\n",
              "1557menu1    0.243553\n",
              "A&H          0.220630\n",
              "Name: category, dtype: float64"
            ]
          },
          "metadata": {},
          "execution_count": 6
        }
      ]
    },
    {
      "cell_type": "markdown",
      "source": [
        "# RNN/LSTM"
      ],
      "metadata": {
        "id": "tjOXpmsqFA1y"
      }
    },
    {
      "cell_type": "code",
      "source": [
        "all_df['processed'] = all_df.texts.map(lambda x: '|'.join(process_text(x)))\n",
        "all_df['wc'] = all_df.processed.map(lambda x: len(x.split('|')))\n",
        "all_df['uwc'] = all_df.processed.map(lambda x: len(set(x.split('|'))))"
      ],
      "metadata": {
        "id": "7R5byRaDjY_y"
      },
      "execution_count": null,
      "outputs": []
    },
    {
      "cell_type": "code",
      "source": [
        "#train-valid\n",
        "train_df, valid_df = train_test_split(all_df, test_size=0.15, random_state=1412)\n",
        "train_df = train_df.reset_index(drop=True)\n",
        "valid_df = valid_df.reset_index(drop=True)"
      ],
      "metadata": {
        "id": "EIdn-dRXoi7D"
      },
      "execution_count": null,
      "outputs": []
    },
    {
      "cell_type": "code",
      "source": [
        "print(len(train_df),len(valid_df))"
      ],
      "metadata": {
        "id": "CiVULRU4OW1H",
        "colab": {
          "base_uri": "https://localhost:8080/"
        },
        "outputId": "101086b4-bbc7-4e43-d1a8-892d35346610"
      },
      "execution_count": null,
      "outputs": [
        {
          "output_type": "stream",
          "name": "stdout",
          "text": [
            "296 53\n"
          ]
        }
      ]
    },
    {
      "cell_type": "code",
      "source": [
        "y_train = train_df['category']\n",
        "y_valid = valid_df['category']"
      ],
      "metadata": {
        "id": "3H0uFyCqTW6N"
      },
      "execution_count": null,
      "outputs": []
    },
    {
      "cell_type": "code",
      "source": [
        "BUFFER_SIZE = 10000\n",
        "BATCH_SIZE = 64\n",
        "\n",
        "text_train = [' '.join(x.split('|')) for x in train_df['processed'].values.tolist()]\n",
        "text_valid = [' '.join(x.split('|')) for x in valid_df['processed'].values.tolist()]"
      ],
      "metadata": {
        "id": "YUBp-vLlQhRL"
      },
      "execution_count": null,
      "outputs": []
    },
    {
      "cell_type": "markdown",
      "source": [
        "**create lookup dictionary**"
      ],
      "metadata": {
        "id": "dg-BgsmzRQ7X"
      }
    },
    {
      "cell_type": "code",
      "source": [
        "word_count = []\n",
        "for sent in text_train:\n",
        "  for w in sent.split():\n",
        "      word_count.append(w)"
      ],
      "metadata": {
        "id": "Vx_WYk_rQ4fo"
      },
      "execution_count": null,
      "outputs": []
    },
    {
      "cell_type": "code",
      "source": [
        "VOCAB_SIZE = len(set(word_count)) #นับคำทั้งหมดโดยเอาคำซ้ำออก\n",
        "encoder = tf.keras.layers.TextVectorization(max_tokens=VOCAB_SIZE)\n",
        "encoder.adapt(text_train)"
      ],
      "metadata": {
        "id": "vc7TutJGQwoc"
      },
      "execution_count": null,
      "outputs": []
    },
    {
      "cell_type": "code",
      "source": [
        "VOCAB_SIZE"
      ],
      "metadata": {
        "id": "BGYq5LcJQ-2Z",
        "colab": {
          "base_uri": "https://localhost:8080/"
        },
        "outputId": "ec650630-e350-4fb8-eb7c-475d778ea526"
      },
      "execution_count": null,
      "outputs": [
        {
          "output_type": "execute_result",
          "data": {
            "text/plain": [
              "3160"
            ]
          },
          "metadata": {},
          "execution_count": 14
        }
      ]
    },
    {
      "cell_type": "code",
      "source": [
        "vocab = np.array(encoder.get_vocabulary())\n",
        "vocab[:20] \n",
        "#[UNK] = unknown"
      ],
      "metadata": {
        "id": "8mzETTyWQ_tk",
        "colab": {
          "base_uri": "https://localhost:8080/"
        },
        "outputId": "310a64d3-6e53-480d-94a8-68fd94d65114"
      },
      "execution_count": null,
      "outputs": [
        {
          "output_type": "execute_result",
          "data": {
            "text/plain": [
              "array(['', '[UNK]', 'นะคะ', 'ลูกค้า', 'ศูนย์', 'สวัสดี', 'สอง', 'ห้า',\n",
              "       'วิริยะ', 'ไหม', 'รถ', 'เดี๋ยว', 'สาม', 'ข้อมูล', 'เจ้าหน้าที่',\n",
              "       'เคลม', 'เก้า', 'สี่', 'ติดต่อ', 'แปด'], dtype='<U19')"
            ]
          },
          "metadata": {},
          "execution_count": 15
        }
      ]
    },
    {
      "cell_type": "markdown",
      "source": [
        "**create model**"
      ],
      "metadata": {
        "id": "ZCaFWzn3Vo3x"
      }
    },
    {
      "cell_type": "code",
      "source": [
        "set(y_train)"
      ],
      "metadata": {
        "id": "p0eHaUrSSuZO",
        "colab": {
          "base_uri": "https://localhost:8080/"
        },
        "outputId": "e6c86ea4-7896-411b-ee48-6e8ca75719d5"
      },
      "execution_count": null,
      "outputs": [
        {
          "output_type": "execute_result",
          "data": {
            "text/plain": [
              "{'1557menu1', '1557menu2', '1557menu3', 'A&H'}"
            ]
          },
          "metadata": {},
          "execution_count": 16
        }
      ]
    },
    {
      "cell_type": "code",
      "source": [
        "y_train = train_df['category']\n",
        "y_valid = valid_df['category']\n",
        "y_class = ['1557menu1', '1557menu2', '1557menu3', 'A&H']"
      ],
      "metadata": {
        "id": "OBtInsJFTCPs"
      },
      "execution_count": null,
      "outputs": []
    },
    {
      "cell_type": "code",
      "source": [
        "le = preprocessing.LabelEncoder()\n",
        "le.fit(y_class)\n",
        "y_train = le.transform(y_train)\n",
        "y_val = le.transform(y_valid)\n",
        "y_train = to_categorical(y_train)\n",
        "y_val = to_categorical(y_val)\n",
        "print(y_train.shape)\n",
        "#แปลงy เป็น one-hot"
      ],
      "metadata": {
        "id": "J24shfL-TZua",
        "colab": {
          "base_uri": "https://localhost:8080/"
        },
        "outputId": "80d350ee-f1a3-4a00-fa41-6cbc3b54e4a1"
      },
      "execution_count": null,
      "outputs": [
        {
          "output_type": "stream",
          "name": "stdout",
          "text": [
            "(296, 4)\n"
          ]
        }
      ]
    },
    {
      "cell_type": "code",
      "source": [
        "model = tf.keras.Sequential([\n",
        "    encoder,\n",
        "    tf.keras.layers.Embedding(\n",
        "        input_dim=len(encoder.get_vocabulary()),\n",
        "        output_dim=512,\n",
        "        # Use masking to handle the variable sequence lengths\n",
        "        mask_zero=True),\n",
        "    tf.keras.layers.Bidirectional(tf.keras.layers.LSTM(256)),\n",
        "    tf.keras.layers.Dense(128, activation='relu'),\n",
        "    tf.keras.layers.Dense(y_train.shape[1], activation='softmax')\n",
        "])"
      ],
      "metadata": {
        "id": "9CIj-LYaTqyd"
      },
      "execution_count": null,
      "outputs": []
    },
    {
      "cell_type": "code",
      "source": [
        "model.compile(loss='categorical_crossentropy',\n",
        "              optimizer=tf.keras.optimizers.Adam(1e-4),\n",
        "              metrics=['accuracy'])"
      ],
      "metadata": {
        "id": "XnZ5tKuIT64X"
      },
      "execution_count": null,
      "outputs": []
    },
    {
      "cell_type": "code",
      "source": [
        "#model train แล้ว\n",
        "model.fit(np.array(text_train), y_train, validation_data=(np.array(text_valid), y_val), epochs=3, verbose=2)"
      ],
      "metadata": {
        "id": "a4mFF4cUT8nv",
        "colab": {
          "base_uri": "https://localhost:8080/"
        },
        "outputId": "b4548ff4-2e91-4898-c515-e8697f7b9344"
      },
      "execution_count": null,
      "outputs": [
        {
          "output_type": "stream",
          "name": "stdout",
          "text": [
            "Epoch 1/3\n",
            "10/10 - 102s - loss: 1.3775 - accuracy: 0.5034 - val_loss: 1.3692 - val_accuracy: 0.5094\n",
            "Epoch 2/3\n",
            "10/10 - 83s - loss: 1.3543 - accuracy: 0.6520 - val_loss: 1.3513 - val_accuracy: 0.5849\n",
            "Epoch 3/3\n",
            "10/10 - 81s - loss: 1.3270 - accuracy: 0.7331 - val_loss: 1.3268 - val_accuracy: 0.6604\n"
          ]
        },
        {
          "output_type": "execute_result",
          "data": {
            "text/plain": [
              "<keras.callbacks.History at 0x7f15f04c1850>"
            ]
          },
          "metadata": {},
          "execution_count": 21
        }
      ]
    },
    {
      "cell_type": "code",
      "source": [
        "value = model.predict(np.array(text_valid))\n",
        "y_val_pred = np.argmax(value,axis=1)\n",
        "y_val_true = np.argmax(y_val,axis=1)\n",
        "print(classification_report(y_val_true, y_val_pred))"
      ],
      "metadata": {
        "id": "DKTmRk1gT9aJ",
        "colab": {
          "base_uri": "https://localhost:8080/"
        },
        "outputId": "ee450c19-9182-4fb1-ca9a-2326fd31eb3d"
      },
      "execution_count": null,
      "outputs": [
        {
          "output_type": "stream",
          "name": "stdout",
          "text": [
            "              precision    recall  f1-score   support\n",
            "\n",
            "           0       1.00      0.17      0.29        12\n",
            "           1       0.86      0.86      0.86        14\n",
            "           2       0.46      0.86      0.60        14\n",
            "           3       0.82      0.69      0.75        13\n",
            "\n",
            "    accuracy                           0.66        53\n",
            "   macro avg       0.78      0.64      0.62        53\n",
            "weighted avg       0.78      0.66      0.63        53\n",
            "\n"
          ]
        }
      ]
    },
    {
      "cell_type": "markdown",
      "source": [
        "# CNN"
      ],
      "metadata": {
        "id": "C1RJ9QJCcu3-"
      }
    },
    {
      "cell_type": "markdown",
      "source": [
        "**Universal-sentence-encoder-multilingual:รองรับคำที่ไม่เคยเห็นได้ดีกว่า**"
      ],
      "metadata": {
        "id": "dLpBp3dtdNfK"
      }
    },
    {
      "cell_type": "code",
      "source": [
        "import tensorflow_hub as hub\n",
        "import tensorflow_text\n",
        "import tensorflow as tf #tensorflow 2.1.0\n",
        "\n",
        "enc = hub.load('https://tfhub.dev/google/universal-sentence-encoder-multilingual/3')"
      ],
      "metadata": {
        "id": "jecyn3WNcuQ9"
      },
      "execution_count": null,
      "outputs": []
    },
    {
      "cell_type": "code",
      "source": [
        "train_df, valid_df = train_test_split(all_df, test_size=0.2, random_state=1412)\n",
        "train_df = train_df.reset_index(drop=True)\n",
        "valid_df = valid_df.reset_index(drop=True)"
      ],
      "metadata": {
        "id": "uMpy_w2kpkXa"
      },
      "execution_count": null,
      "outputs": []
    },
    {
      "cell_type": "code",
      "source": [
        "print(f\"train_df :{len(train_df)}, test_df:{len(valid_df)}\")"
      ],
      "metadata": {
        "colab": {
          "base_uri": "https://localhost:8080/"
        },
        "id": "AFlfnK3orP0F",
        "outputId": "cf7b8272-2700-41d1-c05c-f76304a1675b"
      },
      "execution_count": null,
      "outputs": [
        {
          "output_type": "stream",
          "name": "stdout",
          "text": [
            "train_df :279, test_df:70\n"
          ]
        }
      ]
    },
    {
      "cell_type": "code",
      "source": [
        "y_train = train_df['category']\n",
        "y_valid = valid_df['category']"
      ],
      "metadata": {
        "id": "kthrfXNddKr7"
      },
      "execution_count": null,
      "outputs": []
    },
    {
      "cell_type": "code",
      "source": [
        "X_trains = []\n",
        "X_vals = []\n",
        "bs = 10"
      ],
      "metadata": {
        "id": "0MVN0chPdd_y"
      },
      "execution_count": null,
      "outputs": []
    },
    {
      "cell_type": "code",
      "source": [
        "for i in tqdm_notebook(range(y_valid.shape[0]//bs+1)):\n",
        "    X_vals.append(enc(valid_df.texts[(i*bs):((i+1)*bs)]).numpy())\n",
        "\n",
        "for i in tqdm_notebook(range(y_train.shape[0]//bs+1)):\n",
        "    X_trains.append(enc(train_df.texts[(i*bs):((i+1)*bs)]).numpy())"
      ],
      "metadata": {
        "id": "dwSkkiT7dfHS",
        "colab": {
          "base_uri": "https://localhost:8080/",
          "height": 208,
          "referenced_widgets": [
            "53c2e96574ab4038a8bd6abb66294861",
            "7f99fc5a6e474f55926b51e3876d8d44",
            "21446449d6754c3dac833c0b3441a6bf",
            "6af1ac5191cf4915a4c222cbea971081",
            "3baa615a0b154a4293851cafc0e48504",
            "b4dfcc6a033d4874a00f9514323fda57",
            "d0f8a445e431450d8bb508ee358130e4",
            "8b9fe164ee60485d97b6fd19de11fa63",
            "0a67d86a11f443d7a0222b7eada1eaf3",
            "06aa8deef65743cb98f569a7b627573f",
            "ab67522668304529957eafbc37813029",
            "ca6056a33dce4b34b675f633136ef037",
            "86c0d815f06f43988cf0b9f460fec8df",
            "9ee041256c7647efa376dcaf04183cf5",
            "1c8013cfbd594e509f5fd4562c4469fd",
            "be7e951b0af04fae8356cf68fdef1403",
            "40de87b0620045d0822efb16c2533c22",
            "fe941a70c9b14501839058a66e2f8d78",
            "e13b7794e4a34eae9abbbc34cd49c0b2",
            "699813862e2745a0b8f1bff686bb61e5",
            "d859e8b1d99f49b0b66d79221fb421ef",
            "f6d976ab92b34206871b9fb690ee03b4"
          ]
        },
        "outputId": "a1ebdddf-f616-4b7b-a74a-d20aea9e927f"
      },
      "execution_count": null,
      "outputs": [
        {
          "output_type": "stream",
          "name": "stderr",
          "text": [
            "/usr/local/lib/python3.7/dist-packages/ipykernel_launcher.py:1: TqdmDeprecationWarning: This function will be removed in tqdm==5.0.0\n",
            "Please use `tqdm.notebook.tqdm` instead of `tqdm.tqdm_notebook`\n",
            "  \"\"\"Entry point for launching an IPython kernel.\n"
          ]
        },
        {
          "output_type": "display_data",
          "data": {
            "text/plain": [
              "  0%|          | 0/8 [00:00<?, ?it/s]"
            ],
            "application/vnd.jupyter.widget-view+json": {
              "version_major": 2,
              "version_minor": 0,
              "model_id": "53c2e96574ab4038a8bd6abb66294861"
            }
          },
          "metadata": {}
        },
        {
          "output_type": "stream",
          "name": "stderr",
          "text": [
            "/usr/local/lib/python3.7/dist-packages/ipykernel_launcher.py:4: TqdmDeprecationWarning: This function will be removed in tqdm==5.0.0\n",
            "Please use `tqdm.notebook.tqdm` instead of `tqdm.tqdm_notebook`\n",
            "  after removing the cwd from sys.path.\n"
          ]
        },
        {
          "output_type": "display_data",
          "data": {
            "text/plain": [
              "  0%|          | 0/28 [00:00<?, ?it/s]"
            ],
            "application/vnd.jupyter.widget-view+json": {
              "version_major": 2,
              "version_minor": 0,
              "model_id": "ca6056a33dce4b34b675f633136ef037"
            }
          },
          "metadata": {}
        }
      ]
    },
    {
      "cell_type": "code",
      "source": [
        "X_val = np.concatenate(X_vals,0)\n",
        "X_train = np.concatenate(X_trains,0)\n",
        "X_train.shape, X_val.shape"
      ],
      "metadata": {
        "id": "BcItm8Iqe3hT",
        "colab": {
          "base_uri": "https://localhost:8080/"
        },
        "outputId": "e896f483-9a1e-401e-85b5-755e02a8324c"
      },
      "execution_count": null,
      "outputs": [
        {
          "output_type": "execute_result",
          "data": {
            "text/plain": [
              "((279, 512), (70, 512))"
            ]
          },
          "metadata": {},
          "execution_count": 29
        }
      ]
    },
    {
      "cell_type": "code",
      "source": [
        "from sklearn.svm import LinearSVC\n",
        "\n",
        "text_clf = LinearSVC(class_weight='balanced')\n",
        "text_clf.fit(X_train, y_train)"
      ],
      "metadata": {
        "id": "gNkz3Gvxe9cu",
        "colab": {
          "base_uri": "https://localhost:8080/"
        },
        "outputId": "d9119b92-73a6-4447-fbc1-118686fa4e4e"
      },
      "execution_count": null,
      "outputs": [
        {
          "output_type": "execute_result",
          "data": {
            "text/plain": [
              "LinearSVC(class_weight='balanced')"
            ]
          },
          "metadata": {},
          "execution_count": 30
        }
      ]
    },
    {
      "cell_type": "code",
      "source": [
        "y_val_pred = text_clf.predict(X_val)\n",
        "print(classification_report(y_valid, y_val_pred))"
      ],
      "metadata": {
        "id": "3_3ubXiefyDB",
        "colab": {
          "base_uri": "https://localhost:8080/"
        },
        "outputId": "90eabf23-4eec-4a36-c517-f93c36bf3f9a"
      },
      "execution_count": null,
      "outputs": [
        {
          "output_type": "stream",
          "name": "stdout",
          "text": [
            "              precision    recall  f1-score   support\n",
            "\n",
            "   1557menu1       0.94      0.94      0.94        16\n",
            "   1557menu2       0.94      0.94      0.94        16\n",
            "   1557menu3       0.94      0.80      0.86        20\n",
            "         A&H       0.81      0.94      0.87        18\n",
            "\n",
            "    accuracy                           0.90        70\n",
            "   macro avg       0.91      0.90      0.90        70\n",
            "weighted avg       0.91      0.90      0.90        70\n",
            "\n"
          ]
        }
      ]
    }
  ]
}